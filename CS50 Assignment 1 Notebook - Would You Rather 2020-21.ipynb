{
 "cells": [
  {
   "cell_type": "markdown",
   "metadata": {
    "colab_type": "text",
    "id": "nEeXrnvD96Z3"
   },
   "source": [
    "# Formal Analyses Assignment 1\n",
    "## Logical Thinking\n",
    "### *Would you rather?*"
   ]
  },
  {
   "cell_type": "markdown",
   "metadata": {
    "colab_type": "text",
    "id": "i-eF0zU496Z5"
   },
   "source": [
    "## Overview\n",
    "\n",
    "For this assignment, you will craft arguments in favor of each side of a “would you rather” question. You must then analyze the arguments in full, making strong applications of all of the logical thinking HCs. The arguments can be as simple or as sophisticated as you wish! Keep in mind that more complicated arguments will require a richer, more careful analysis. This may be a good way to showcase your knowledge, but could also lead to more flaws. Moreover, in pursuit of the appropriate difficulty level, you’ll notice several “Optional” problems throughout the assignment to challenge yourself. These will only be scored if they are completed correctly with thorough explanation. If you attempt an optional challenge but do not succeed, you will not be penalized with a low score.\n",
    "\n",
    "## Formatting & HC Guidelines \n",
    "\n",
    "You must complete all tasks within this pre-formatted Jupyter notebook. **Please follow the formatting guidelines and the HC Guidelines in the assignment instructions on Forum (near the top and bottom of the instructions respectively).**"
   ]
  },
  {
   "cell_type": "markdown",
   "metadata": {
    "colab_type": "text",
    "id": "HSPhYqBatOjA"
   },
   "source": [
    "## Would you rather?\n",
    "\n",
    "Please choose a question from [this spreadsheet](https://docs.google.com/spreadsheets/d/1Q-q1q7ofKpTSaP4kNQL_Fq7GGiHhJc9psxuq8usoIUM/edit?usp=sharing). There are two parts below, and in each part, you will argue a different side of the argument for your chosen question. For example, if your question was, “Would you rather code in Python or code in Java?”, you would focus on one side only in PART 1: “I would rather code in Python.” In PART 2, you would craft an inductive argument for the other side, “I would rather code in Java.” **Please review the guidelines and examples provided to help you write effective arguments in the assignment instructions on Forum.**"
   ]
  },
  {
   "cell_type": "markdown",
   "metadata": {
    "colab_type": "text",
    "id": "JR5RblKV96Z8"
   },
   "source": [
    "## PART 1\n",
    "#### In this part, you will work with one side of the argument only. As explained above, if your question was, “Would you rather code in Python or code in Java?” then one side would be “I would rather code in Python.” For the chosen side of the argument, craft two brief arguments using deductive reasoning. One argument should be a valid deduction and one should contain a fallacy. Write these arguments in natural language in simple terms with clear use of logical connectives and atomic sentences so that it is amenable for the following analysis. [#deduction, #fallacies, #algorithms]\n"
   ]
  },
  {
   "cell_type": "markdown",
   "metadata": {
    "colab_type": "text",
    "id": "zvjIU7IxtOjD"
   },
   "source": [
    "### Write your question and your deductive arguments."
   ]
  },
  {
   "cell_type": "markdown",
   "metadata": {
    "colab_type": "text",
    "id": "SY12Lk3_tOjH"
   },
   "source": [
    "\"Would you rather have real political power but be relatively poor, or be ridiculously rich and have\n",
    "no political power? \""
   ]
  },
  {
   "cell_type": "markdown",
   "metadata": {
    "colab_type": "text",
    "id": "6iJbP1rO96Z9"
   },
   "source": [
    "**Valid deductive argument**: \n",
    "<br>\n",
    "P1: If money is power, then I would rather be ridiculously rich and not have political power.\n",
    "<br>\n",
    "P2: If and only if money can buy anything and we live in a capitalistic society, then money is power. \n",
    "<br>\n",
    "P3: We live in a capitalistic society and money can buy anything.\n",
    "<br>\n",
    "...\n",
    "<br>\n",
    "Conclusion: Therefore, I would rather be ridiculously rich and not have political power.\n",
    "\n"
   ]
  },
  {
   "cell_type": "markdown",
   "metadata": {
    "colab_type": "text",
    "id": "UIw4lSlc96Z9"
   },
   "source": [
    "**Fallacious deductive argument**: \n",
    "<br>\n",
    "P1: If I believe the government can aid its people without corruption, then I would rather have political power or not be rich.\n",
    "<br>\n",
    "P2: I do not believe the government can aid its people without corruption.\n",
    "<br>\n",
    "...\n",
    "<br>\n",
    "Conclusion: Therefore, I would rather be ridiculously rich and not have political power\n"
   ]
  },
  {
   "cell_type": "markdown",
   "metadata": {
    "colab_type": "text",
    "id": "Jwoq0sui96Z-"
   },
   "source": [
    "### 1. Clearly identify the features of these arguments that make them deductive and explain why (<75 words).\n",
    "\n"
   ]
  },
  {
   "cell_type": "markdown",
   "metadata": {
    "colab_type": "text",
    "id": "_CeU7t0h96Z-"
   },
   "source": [
    "These arguments satisfy a number of Wilkin’s factors. Firstly, the conclusions of these arguments follow from the premises as a matter of logical necessity, i.e. the conclusion is drawn from the truth of the premises, which is the distinguishing feature of deductive arguments. They both also use logical connectives like if, and, or, and their conclusions are based on the things explicitly addressed in the premises (scope of the argument). "
   ]
  },
  {
   "cell_type": "markdown",
   "metadata": {
    "colab_type": "text",
    "id": "WuxxbP03tOjK"
   },
   "source": [
    "### 2. For the valid deduction:"
   ]
  },
  {
   "cell_type": "markdown",
   "metadata": {
    "colab_type": "text",
    "id": "LPbvay6q96Z_"
   },
   "source": [
    "#### 2.1 Translate your argument into symbolic logic.\n",
    "\n"
   ]
  },
  {
   "cell_type": "markdown",
   "metadata": {
    "colab_type": "text",
    "id": "Yj4I2CnTrBe-"
   },
   "source": [
    "Translation key:\n",
    "<br>\n",
    "M – Money is power.\n",
    "<br>\n",
    "R – I would rather be ridiculously rich.\n",
    "<br>\n",
    "P – I would rather have political power.\n",
    "<br>\n",
    "B – Money can buy anything.\n",
    "<br>\n",
    "C – We live in a capitalistic society.\n",
    "\n",
    "M → (R ∧ ¬P)\n",
    "<br>\n",
    "(B ∧ C) ↔ M\n",
    "<br>\n",
    "B ∧ C \n",
    "<br>\n",
    "…\n",
    "<br>\n",
    "Therefore, (R ∧ ¬P)\n"
   ]
  },
  {
   "cell_type": "markdown",
   "metadata": {
    "colab_type": "text",
    "id": "kAJ6wsTu96aA"
   },
   "source": [
    "#### 2.2 Choose two sentences from the argument and negate them using DeMorgan’s laws. Ideally, you should choose two sentences that have different logical connectives. Translate the negations back into English.\n"
   ]
  },
  {
   "cell_type": "markdown",
   "metadata": {
    "colab_type": "text",
    "id": "Rv-KVvO4rBfA"
   },
   "source": [
    "1. Negating (B ∧ C):\n",
    "<br>\n",
    "¬ (B ∧ C) ≡ (¬B) ∨ (¬C)\n",
    "<br>\n",
    "English translation: Money cannot buy anything or we do not live in a capitalistic society. \n",
    "<br>\n",
    "<br>\n",
    "2. Negating [M → (R ∧ ¬P)]:\n",
    "<br>\n",
    "According to the conditional negation law:\n",
    "<br>\n",
    "P → Q ≡ ¬P ∨ Q which means      [M → (R ∧ ¬P)] = ¬M ∨ (R ∧ ¬P)\n",
    "<br>\n",
    "¬(P → Q) ≡ P ∧ ¬Q which means:\n",
    "<br>\n",
    "¬ [M → (R ∧ ¬P)] ≡ ¬ [¬M ∨ (R ∧ ¬P)]\n",
    "<br>\n",
    "≡ ¬¬M) ∧ ¬(R ∧ ¬P)\n",
    "<br>\n",
    "≡ M ∧ (¬R ∨ ¬¬P)\n",
    "<br>\n",
    "≡ M ∧ (¬R ∨ P)\n",
    "<br>\n",
    "English Translation: Money is power and I would rather have political power or not be rich.\n"
   ]
  },
  {
   "cell_type": "markdown",
   "metadata": {
    "colab_type": "text",
    "id": "kRfMhJEKrBfB"
   },
   "source": [
    "#### 2.3 Prove that the argument is indeed valid using a formal proof.\n",
    "\n"
   ]
  },
  {
   "cell_type": "markdown",
   "metadata": {
    "colab_type": "text",
    "id": "xVSCP6yCrBfD"
   },
   "source": [
    "1. M → (R ∧ ¬P) **Premise** \n",
    "2. (B ∧ C) ↔ M\t**Premise**\n",
    "3. B ∧ C **Premise**\n",
    "<br>\n",
    "\n",
    "4. (B ∧ C) → M\t**Definition of biconditional**\n",
    "5. B ∧ C **Assumption for conditional**\n",
    "6. M\t**Modus ponens, 4, 5**\n",
    "<br>\n",
    "\n",
    "7. (R ∧ ¬P)\t**Modus ponens, 1, 6**\n"
   ]
  },
  {
   "cell_type": "markdown",
   "metadata": {
    "colab_type": "text",
    "id": "SVbul8AVrBfF"
   },
   "source": [
    "#### 2.4 Discuss the soundness of the argument (<100 words).\n",
    "\n"
   ]
  },
  {
   "cell_type": "markdown",
   "metadata": {
    "colab_type": "text",
    "id": "IZCLHkXsrBfG"
   },
   "source": [
    "Using formal proof, we have proved the validity of the argument, which is the first step to affirming the soundness of an argument. To evaluate whether the premises themselves are true becomes subjective since many people would agree with the premises of money buying anything and living in a capitalistic society, while others can disagree. As the reality of each person differs from another, neither of the stances can be proved wrong. However, due this ambiguity in the premises, we can conclude that the argument isn’t as sound as there’s a possibility the premises can be false"
   ]
  },
  {
   "cell_type": "markdown",
   "metadata": {
    "colab_type": "text",
    "id": "V7WJ4OZZrBfE"
   },
   "source": [
    "#### 2.5 *Optional*: Negate each of the premises of your argument and derive a valid conclusion, being sure to explain the derivation and comment on the soundness. If it is impossible to form a valid argument from these premises, explain why.\n"
   ]
  },
  {
   "cell_type": "markdown",
   "metadata": {
    "colab_type": "text",
    "id": "hr_Y3mWKrBfF"
   },
   "source": [
    "Write your answer for 2.5 (*optional*) here (double click to edit the cell)."
   ]
  },
  {
   "cell_type": "markdown",
   "metadata": {
    "colab_type": "text",
    "id": "Vrg0BWjU96aA"
   },
   "source": [
    "### 3. Python\n",
    "#### 3.1 Use Python to assess the validity of the argument. The code should output whether or not the argument is valid (it should be valid!) based on a truth table. You are not required to print the full truth table, but it might provide you with a helpful sanity check. You may use a similar code from session 5 (3.1), simply adapting it to your argument, or if you wish, write your own from scratch. The code from lesson 4 (2.2) may also be helpful. Whatever approach you take, you must clearly explain how the code works (as described below). \n",
    "\n",
    "#### As with any code, you need to include clearly annotated in-line comments to document what the code is doing and how it is using logic. Read this [resource](https://mikegrouchy.com/blog/yes-your-code-does-need-comments) about the importance of comments and [this one](https://realpython.com/python-comments-guide/) for further guidance.\n",
    "\n",
    "#### In addition to your brief in-line comments, you must also include an overarching explanation of what the code is doing as a whole in connection with #deduction. In particular, you should explain how the truth table is used to ascertain validity and how this logic concept is incorporated in the code (<150 words)."
   ]
  },
  {
   "cell_type": "markdown",
   "metadata": {},
   "source": [
    "Translation key:\n",
    "<br>\n",
    "M – Money is power.\n",
    "<br>\n",
    "R – I would rather be ridiculously rich.\n",
    "<br>\n",
    "P – I would rather have political power.\n",
    "<br>\n",
    "B – Money can buy anything.\n",
    "<br>\n",
    "C – We live in a capitalistic society.\n",
    "<br>\n",
    "<br>\n",
    "M → (R ∧ ¬P)\n",
    "<br>\n",
    "(B ∧ C) ↔ M\n",
    "<br>\n",
    "B ∧ C \n",
    "<br>\n",
    "…\n",
    "<br>\n",
    "Therefore, (R ∧ ¬P)"
   ]
  },
  {
   "cell_type": "code",
   "execution_count": 13,
   "metadata": {
    "colab": {},
    "colab_type": "code",
    "id": "c6GGeTPo96aB"
   },
   "outputs": [
    {
     "name": "stdout",
     "output_type": "stream",
     "text": [
      "m\t r\t p\t b\t c\t p1\t p2\t p3\t conclusion\n",
      "True \t True \t True \t True \t True \t False \t True \t True \t True\n",
      "True \t True \t True \t True \t False \t False \t False \t False \t True\n",
      "True \t True \t True \t False \t True \t False \t False \t False \t True\n",
      "True \t True \t True \t False \t False \t False \t False \t False \t True\n",
      "True \t True \t False \t True \t True \t True \t True \t True \t True\n",
      "True \t True \t False \t True \t False \t True \t False \t False \t True\n",
      "True \t True \t False \t False \t True \t True \t False \t False \t True\n",
      "True \t True \t False \t False \t False \t True \t False \t False \t True\n",
      "True \t False \t True \t True \t True \t False \t True \t True \t False\n",
      "True \t False \t True \t True \t False \t False \t False \t False \t False\n",
      "True \t False \t True \t False \t True \t False \t False \t False \t False\n",
      "True \t False \t True \t False \t False \t False \t False \t False \t False\n",
      "True \t False \t False \t True \t True \t False \t True \t True \t True\n",
      "True \t False \t False \t True \t False \t False \t False \t False \t True\n",
      "True \t False \t False \t False \t True \t False \t False \t False \t True\n",
      "True \t False \t False \t False \t False \t False \t False \t False \t True\n",
      "False \t True \t True \t True \t True \t True \t False \t True \t True\n",
      "False \t True \t True \t True \t False \t True \t True \t False \t True\n",
      "False \t True \t True \t False \t True \t True \t True \t False \t True\n",
      "False \t True \t True \t False \t False \t True \t True \t False \t True\n",
      "False \t True \t False \t True \t True \t True \t False \t True \t True\n",
      "False \t True \t False \t True \t False \t True \t True \t False \t True\n",
      "False \t True \t False \t False \t True \t True \t True \t False \t True\n",
      "False \t True \t False \t False \t False \t True \t True \t False \t True\n",
      "False \t False \t True \t True \t True \t True \t False \t True \t False\n",
      "False \t False \t True \t True \t False \t True \t True \t False \t False\n",
      "False \t False \t True \t False \t True \t True \t True \t False \t False\n",
      "False \t False \t True \t False \t False \t True \t True \t False \t False\n",
      "False \t False \t False \t True \t True \t True \t False \t True \t True\n",
      "False \t False \t False \t True \t False \t True \t True \t False \t True\n",
      "False \t False \t False \t False \t True \t True \t True \t False \t True\n",
      "False \t False \t False \t False \t False \t True \t True \t False \t True\n",
      "Argument is valid\n"
     ]
    }
   ],
   "source": [
    "#the following code is a modified version of the code given in CS50 session 5(3.1).\n",
    "#Details have been changed and added based on the requirements of my arguments\n",
    "\n",
    "def premise1(m,r,p,b,c):\n",
    "    #outputs M → (R ∧ ¬P)\n",
    "    \"\"\" (P → Q) ≡ (¬P ∨ Q) \n",
    "        M → (R ∧ ¬P) ≡ ¬M ∨ (R ∧ ¬P)\n",
    "    \"\"\"\n",
    "    return not m or (r and not p)\n",
    "\n",
    "def premise2(m,r,p,b,c):\n",
    "    #outputs (B ∧ C) ↔ M\n",
    "    #since the consequent is dependent on the antecedent, we can subsitute it with the '=' sign \n",
    "    return (b and c) == m\n",
    "\n",
    "def premise3(m,r,p,b,c):\n",
    "    #outputs B ∧ C\n",
    "    return b and c\n",
    "\n",
    "def conclusion(m,r,p,b,c):\n",
    "    #outputs (R ∧ ¬P)\n",
    "    return r or not p \n",
    "\n",
    "def valid_checker(p1, p2, p3, concl):\n",
    "    #inputs the premises, which have variables m,r,p,b,c\n",
    "    print('m\\t r\\t p\\t b\\t c\\t p1\\t p2\\t p3\\t conclusion') #the headings for the truth table\n",
    "    validity =  True\n",
    "    \"\"\"the following nested for loops compute every possible combination of the atomic sentences for the truth table.\n",
    "    since there are 5 loops, there will be 2^5 rows (32)\n",
    "    \"\"\"\n",
    "    for m in [True,False]:\n",
    "        for r in [True,False]:\n",
    "            for p in [True,False]:\n",
    "                for b in [True,False]:\n",
    "                    for c in [True,False]:\n",
    "                        print(m,'\\t',r,'\\t',p,'\\t',b,'\\t',c,'\\t',p1(m,r,p,b,c),'\\t',\\\n",
    "                        p2(m,r,p,b,c),'\\t',p3(m,r,p,b,c),'\\t',concl(m,r,p,b,c))\n",
    "                        \"\"\"if all the premises and the conclusion are true then the argument is valid\n",
    "                        but if there is a single case where the premises are true but the conclusion is false, \n",
    "                        the argument is invalid. Hence, we will only check for this instance\"\"\"\n",
    "                        if p1(m,r,p,b,c) == True and p2(m,r,p,b,c)==True and p3(m,r,p,b,c)==True and conclusion(m,r,p,b,c)==False:\n",
    "                            validity = False\n",
    "                            \n",
    "    if validity == True:        \n",
    "        print(\"Argument is valid\")\n",
    "    else:\n",
    "        print(\"Argument is invalid\") \n",
    "                   \n",
    "\"\"\"the valid_checker function is called, which has the premises and conclusion functions as variables. \n",
    "These functions are hence called inside the valid_checker function\"\"\"                    \n",
    "valid_checker(premise1,premise2,premise3,conclusion)\n"
   ]
  },
  {
   "cell_type": "markdown",
   "metadata": {
    "colab_type": "text",
    "id": "iHx1tm18wHP1"
   },
   "source": [
    "**Write your explanation of the code for 3.1 here (double click to edit the cell).**\n",
    "\n",
    "The code first defines functions for each premises and the conclusion because they have complicated outputs that are easier to understand when handled separately. Then there's the primary function that uses the premises and conclusion functions as the variables and calls them within it. The validty_checker function does two important tasks: \n",
    "1.\tCreates a truth tables by assigning headings and through the 5 nested for loops, which create 32 rows with every possible combination of truth values of the atomic sentences. By the time the 5th loop is reached the first row has all True values, which are printed in the table. The last variable then gets assigned False, while the others remain True. This completes the first cycle, allowing the code to go the 4th loop, where the value of the 4th variable now becomes False. However, every time we go back one loop, it has to come back down to the 5th loop, hence outputting all the combinations of the truth-values.\n",
    "2.\tChecks the validity of the argument. To prove the validity, we take an indirect proof method by showing that the argument is not invalid. Therefore, it checks for a row where all the premises are True and the conclusion is False. The above argument is proven valid due to the lack of this instance.\n",
    "\n",
    "However, it is important to note that this code is specifically designed for the deductive argument I created and will not work for any other argument since the variables and functions are based on the atomic sentences and premises of the argument.\n"
   ]
  },
  {
   "cell_type": "markdown",
   "metadata": {
    "colab_type": "text",
    "id": "CIZxbM8nrBfN"
   },
   "source": [
    "#### 3.2 *Optional challenge*: Write your own Python code that will create a truth table for any logical statement involving any number of atomic sentences and connectives. You can decide on the input/output format, but explain in detail what you are doing and why."
   ]
  },
  {
   "cell_type": "code",
   "execution_count": 7,
   "metadata": {
    "colab": {},
    "colab_type": "code",
    "id": "0DO3xJrLrBfO"
   },
   "outputs": [
    {
     "name": "stdout",
     "output_type": "stream",
     "text": [
      "32\n"
     ]
    }
   ],
   "source": [
    "# write your code for 3.2 (optional) here"
   ]
  },
  {
   "cell_type": "markdown",
   "metadata": {
    "colab_type": "text",
    "id": "CC_6UoKlrBfU"
   },
   "source": [
    "#### 3.3 *Optional super challenge*: Write your own Python code that will check the validity of any set of logical sentences that form an argument. Explain in detail how your code works. You can decide on the input/output format, but explain in detail what you are doing and why."
   ]
  },
  {
   "cell_type": "code",
   "execution_count": null,
   "metadata": {
    "colab": {},
    "colab_type": "code",
    "id": "ueNROMgKrBfW"
   },
   "outputs": [],
   "source": [
    "# write your code for 3.3 (optional) here"
   ]
  },
  {
   "cell_type": "markdown",
   "metadata": {
    "colab_type": "text",
    "id": "ExUp-7Gw96aE"
   },
   "source": [
    "### 4. For the fallacious argument (<200 words): \n",
    "#### 4.1 Name the type of fallacy or fallacies involved and justify the fallacious nature of the argument by explaining the flaw in logic.\n",
    "#### 4.2 Explain how the fallacy or fallacies could be corrected and the effect of the correction on the meaning of the conclusion and/or premises. \n",
    "#### (Translating this part of the argument into symbolic logic is not required but could be useful for your explanations.)\n"
   ]
  },
  {
   "cell_type": "markdown",
   "metadata": {
    "colab_type": "text",
    "id": "HzSWEXPfxpUi"
   },
   "source": [
    "Fallacious deductive argument: \n",
    "\n",
    "\n",
    "<br>\n",
    "P1: If I believe the government can aid its people without corruption, then I would rather have political power or not be rich.\n",
    "<br>\n",
    "P2: I do not believe the government can aid its people without corruption.\n",
    "<br>\n",
    "...\n",
    "<br>\n",
    "Conclusion: Therefore, I would rather be ridiculously rich and not have political power"
   ]
  },
  {
   "cell_type": "markdown",
   "metadata": {
    "colab_type": "text",
    "id": "YsxkPDx1rBfb"
   },
   "source": [
    "Translation key:\n",
    "<br>\n",
    "R – I would rather be ridiculously rich.\n",
    "<br>\n",
    "P – I would rather have political power.\n",
    "<br>\n",
    "G – I believe the government can aid its people without corruption.\n",
    "\n",
    "G → (P ∨ ¬R)\n",
    "<br>\n",
    "¬G\n",
    "<br>\n",
    "Therefore, R ∧ ¬P\n",
    "\n",
    "This argument contains formal fallacy ‘denying the antecedent’ that says ‘If A then B. not A. Therefore, not B’. In the above argument (P ∨ ¬R) represents B, and G represent A. Denying the antecedent (saying not G) does not tell us anything about the state of the consequent, since it can be true regardless, hence, this argument is does not follow rules of logic and is fallacious.\n",
    "\n",
    "(*Here not (P ∨ ¬R) is converted into R ∧ ¬P using De Morgan’s laws)\n",
    "\n",
    "The formal fallacy can be corrected by using biconditional instead, where the consequent is dependent on the state of the antecedent and not A would mean not B. This correction would result in strengthening the conclusion, which depends on the premise using the biconditional. However, it would also bind A and B, where a change in either would change the other.   \n"
   ]
  },
  {
   "cell_type": "markdown",
   "metadata": {
    "colab_type": "text",
    "id": "y2oG5Knl96aF"
   },
   "source": [
    "## PART 2\n",
    "#### For the other side of the argument, craft two brief arguments using inductive reasoning (please see the guidance provided above for how to construct your arguments from your question). One argument should be a strong induction and one should contain a fallacy. [#induction, #fallacies]"
   ]
  },
  {
   "cell_type": "markdown",
   "metadata": {
    "colab_type": "text",
    "id": "jhYuhbS00f69"
   },
   "source": [
    "Would you rather have real political power but be relatively poor, or be ridiculously rich and have no political power?"
   ]
  },
  {
   "cell_type": "markdown",
   "metadata": {
    "colab_type": "text",
    "id": "HQvBDgr596aG"
   },
   "source": [
    "**Strong inductive argument**:\n",
    "\n",
    "P1: In the past, distorted policies and partial governments have ruined millions of lives.\n",
    "<br>\n",
    "P2: If a shift in the political system is not achieved, people will continue to suffer.\n",
    "<br>\n",
    "P3: The inequality and injustice in the world dissatisfies me; I want to change it.\n",
    "<br>\n",
    "P4: The world is crafted at the hands of those who have power.\n",
    "<br>\n",
    "P5: Wealth is pointless if your life is controlled by others.\n",
    "\n",
    "Conclusion: Therefore, I would rather have political power but be relatively poor.\n"
   ]
  },
  {
   "cell_type": "markdown",
   "metadata": {
    "colab_type": "text",
    "id": "oGNqAhO3rBfg"
   },
   "source": [
    "**Fallacious inductive argument**:\n",
    "\n",
    "P1: Money can plant greed inside a person, which is one of the deadly sins. \n",
    "<br>\n",
    "P2: One can either fall victim to the greed of money or they can have the influence to make real change. \n",
    "<br>\n",
    "P3: Most politicians use their power to their advantage and live good lives. \n",
    "<br>\n",
    "P4: If I want live a good life, I need to be in a position of power where I can use available resources to my benefit.\n",
    "\n",
    "Conclusion: Therefore, I would rather have real political power but be relatively poor.\n"
   ]
  },
  {
   "cell_type": "markdown",
   "metadata": {
    "colab_type": "text",
    "id": "cGww68OA96aG"
   },
   "source": [
    "### 1. Clearly identify the features of these arguments that make them inductive and explain why (<75 words).\n",
    "\n"
   ]
  },
  {
   "cell_type": "markdown",
   "metadata": {
    "colab_type": "text",
    "id": "kN-8LmvT96aH"
   },
   "source": [
    "These arguments are inductive in nature according to a number of Wilkin’s factors. The most important one is that the conclusions possibly follow from the premises, not necessarily. Secondly, the scope of the premises is disjointed from the conclusion, i.e. the premises address subjects that are not directly associated with the conclusion. Both of the arguments also rely heavily on observations and evidence to support the conclusion, which makes them a possibility, not an actuality. "
   ]
  },
  {
   "cell_type": "markdown",
   "metadata": {
    "colab_type": "text",
    "id": "ZISzYUb996aH"
   },
   "source": [
    "### 2. For the strong induction (<200 words): \n",
    "#### 2.1 Is this a specific type of induction? Which type, and why?\n",
    "#### 2.2 Elaborate on the strength and reliability of the argument. Explain how the argument could be made more reliable (including by increasing the strength).\n",
    "\n",
    "\n"
   ]
  },
  {
   "cell_type": "markdown",
   "metadata": {
    "colab_type": "text",
    "id": "1t-aEk7IrBfl"
   },
   "source": [
    "The induction used here can be specified as prediction based on the first two premises, where an observation from the past (though not directly experienced) is used to predict an event in the future, which supports the conclusion drawn. This can be a useful technique because it supports the conclusion through something that has already happened and hence exists. However, the use of prediction here can be strengthened to make the argument more reliable by quantifying the past observation or even adding a historian’s opinion (induction by authority).\n",
    "<br>\n",
    "The argument on its own can be considered strong because the premises support the conclusion enough for it be acted on if they are true. The premises also follow a similar train of subject and aren’t scattered. The argument can be strengthened by providing more and varied evidence. For example, if the above argument is based on trying to use power for good, then more ways and reasons can be provided. \n",
    "<br>\n",
    "However, due to the ambiguous and subjective nature of the strength and reliability of inductive arguments, there’s always room for alterations. Evaluating this, hence, involves many biases as well. \n"
   ]
  },
  {
   "cell_type": "markdown",
   "metadata": {
    "colab_type": "text",
    "id": "mOYH0yys96aJ"
   },
   "source": [
    "### 3. For the fallacious argument (<200 words): \n",
    "#### 3.1 Name the type of fallacy or fallacies involved and justify the fallacious nature of the argument by explaining the flaw in logic.\n",
    "#### 3.2 Explain how the fallacy or fallacies could be corrected and the effect of the correction on the meaning of the conclusion and/or premises."
   ]
  },
  {
   "cell_type": "markdown",
   "metadata": {
    "colab_type": "text",
    "id": "UxmDeUqQyK4e"
   },
   "source": [
    "**Fallacious inductive argument**:\n",
    "\n",
    "P1: Money can plant greed inside a person, which is one of the deadly sins. \n",
    "<br>\n",
    "P2: One can either fall victim to the greed of money or they can have the influence to make real change. \n",
    "<br>\n",
    "P3: Most politicians use their power to their advantage and live good lives. \n",
    "<br>\n",
    "P4: If I want live a good life, I need to be in a position of power where I can use available resources to my benefit.\n",
    "\n",
    "Conclusion: Therefore, I would rather have real political power but be relatively poor.\n"
   ]
  },
  {
   "cell_type": "markdown",
   "metadata": {
    "colab_type": "text",
    "id": "gAbwhF5LyK4g"
   },
   "source": [
    "The argument uses fallacies of relevance like bandwagon and genetic fallacy. Genetic fallacy is rather implicit in the argument as it assumes that just because money can make people greedy, everything related to it is bad. This weakens the logic by addressing the subject without the context that is presented. \n",
    "\n",
    "The premises regarding politicians misusing their power to live a good life to justify one’s desire to live a good life demonstrates bandwagon, where they rationalize an immoral act just because it is common. It is a mis-directional piece of evidence that does not add weight to the conclusion. In the same premise, false dichotomy can also be observed, along with the premise of falling victim to greed or having political influence. In both these premises a set of choices are presented, which are artificial in nature and assume that denying one choice means accepting the other. They present false evidence to support the conclusion, making the argument weak and fallacious.  \n",
    "\n",
    "They can be corrected by removing artificial disjunctions and morally misguiding evidences that weaken the reliability of the argument. This will allow the premises to better support the conclusion through relevant evidences. \n"
   ]
  },
  {
   "cell_type": "markdown",
   "metadata": {
    "colab_type": "text",
    "id": "34a3R2eT96aK"
   },
   "source": [
    "## Reflection\n",
    "\n",
    "### Reflect on what you learned in this assignment. Address the following points in <300 words total:  [#scienceoflearning, #selfawareness, and other HCs per use] \n",
    "#### 1. How did the principles from the science of learning deepen your knowledge of #induction, #deduction, #algorithms, and #fallacies while working on this assignment? (<100 words)\n",
    "#### 2. Throughout both sections, what did you learn about the connection between formal logic, language, computer code, and the use of logical thinking in the real world? (<100 words)\n",
    "#### 3. Describe how you obtained the knowledge to complete the assignment, being sure to include attributions to specific individuals or groups who helped you and how they helped. You should elaborate on any strategies you used to identify gaps and weaknesses in your own understanding of the material. (<100 words)\n"
   ]
  },
  {
   "cell_type": "markdown",
   "metadata": {
    "colab_type": "text",
    "id": "LaAGOt8ArBfs"
   },
   "source": [
    "Write your reflection here, addressing points 1, 2, and 3.\n",
    "\n",
    "1. While learning logic proofs, types of inductions or list of fallacies, I made use of principles like chunking, foundational learning, and appropriate examples to deepen my understanding. However, in order to easily retrieve this information, I used associative chaining, and dual codes to create different representations of them, like tables and flowcharts. Other than learning principles, I also found using #heuristics to be helpful, especially working backwards, which I applied when identifying my premises since the conclusion was already present; and external representation, which allowed me to create a visual representation of the connection between the premises and the conclusion.  \n",
    "\n",
    " \n",
    "2.\tWhile doing the tasks, I realized how ambiguous natural languages are, which make them both, more and less persuasive than formal languages. Formal logic acts like a bridge between natural language and computer code, an intermediate that stands at a compromise. It was also interesting to see how real-world choice can be represented in codes to verify their validity; it made me realize that most things can be narrowed to mere 0s and 1s. However, the role of fallacies and inductive reasoning made it evident how formal logic falls victim to subjectivity as well, and though logical thinking can make many problems easier to evaluate, real problems cannot be accurately solved through it due to the paradoxical nature of humans.\n",
    "\n",
    "\n",
    "3.\tI decided to do the assignment in a continuous stretch rather than fragmented efforts since one task built on the previous one. This allowed me to form a coherent understanding of the topic, especially since most of the concepts overlap. Whenever I got stuck, I went back to my notes, which are comprehensive and organized, allowing me quick access to relevant information. I spent some time figuring out Jupyter through trial and error and used CS50 Session 5 template to help me with my code, but as I modified it, I explained the steps of the code to myself to strengthen my understanding of it, which aided me in writing the explanation of the code.  \n",
    "\n"
   ]
  },
  {
   "cell_type": "markdown",
   "metadata": {
    "colab_type": "text",
    "id": "yYJ11MAn96aL"
   },
   "source": [
    "### *Optional reflection questions*\n",
    "#### *Optional* 1: What side of the *would you rather* argument do believe was argued more effectively and why? (<200 words)\n",
    "\n"
   ]
  },
  {
   "cell_type": "markdown",
   "metadata": {
    "colab_type": "text",
    "id": "u6XvIE6YrBfu"
   },
   "source": [
    "In  my opinion the deductive argument was better structured and provided a rather simple and easy argument to follow. The premises were well connected and kept the focus of the argument to a single subject on which the conclusion focused. It was also logically valid and was proved through a turth table as well, which increases the effectiveness of the argument and an audience's willingness to believe it. \n",
    "I also believe that while people prefer subjectivty and the 'gray area', it is a natural instinct to believe conclusions supported by logic and reasoning, where they can only be either right or wrong. It gives a sense of assurity to the conclusion we are being persuaded to believe. "
   ]
  },
  {
   "cell_type": "markdown",
   "metadata": {
    "colab_type": "text",
    "id": "dPVnuZHR96aM"
   },
   "source": [
    "#### *Optional* 2: Create a new assignment problem for future classes that you think is a good test of the skills covered by one or more of these HCs. Provide the complete step-by-step solution, and a justification for why this is a good assignment problem. It should be entirely different from this assignment. *The FA team would like to thank Dima Lkhagvatogtokh (M22) for her submission to this question in 2018; her idea formed the basis for the assignment that you just completed!*\n",
    "\n"
   ]
  },
  {
   "cell_type": "markdown",
   "metadata": {
    "colab_type": "text",
    "id": "irIZ8Mc8rBfw"
   },
   "source": [
    "I don't have a complete break down of how a new assignment could look like but an interesting method could be to build it in a 'two truths and a lie' format, where one has to identify the invalid argument from a set of three or something. This could be a nice task for the coding section, and even for creating the arguments, it deepens your understadning if you actively try to create an invalid argument (like in the case of fallacies. Actively using them allows us to understand them better). \n",
    "If you would like to discuss the idea further, I'd be happy to create a more comprehensive breakdown of what it can look like. "
   ]
  },
  {
   "cell_type": "markdown",
   "metadata": {
    "colab_type": "text",
    "id": "gLG7YeDnrBfx"
   },
   "source": [
    "## You're done! \n",
    "\n",
    "You must upload TWO files:\n",
    "\n",
    "\n",
    "1. A **zipped folder** containing the .ipynb file and any other relevant files for running the notebook.\n",
    "\n",
    "\n",
    "2. A **PDF** of your entire assignment. A PDF of your entire assignment. This is to be submitted as a separate file, NOT simply inside the zipped folder. Email attachments will not be accepted. We encourage students to follow the tips available in [this guide](https://docs.google.com/document/d/1gRMol9Ebbvyu1mvEKzma92o_N7ZbNXsPIb1QdQV0TeE/edit?usp=sharing), *especially the best practices listed at the end*."
   ]
  },
  {
   "cell_type": "code",
   "execution_count": null,
   "metadata": {},
   "outputs": [],
   "source": []
  }
 ],
 "metadata": {
  "colab": {
   "collapsed_sections": [],
   "name": "CS50 Assignment 1 Notebook - Would You Rather 2020-21.ipynb",
   "provenance": []
  },
  "kernelspec": {
   "display_name": "Python 3",
   "language": "python",
   "name": "python3"
  },
  "language_info": {
   "codemirror_mode": {
    "name": "ipython",
    "version": 3
   },
   "file_extension": ".py",
   "mimetype": "text/x-python",
   "name": "python",
   "nbconvert_exporter": "python",
   "pygments_lexer": "ipython3",
   "version": "3.8.3"
  }
 },
 "nbformat": 4,
 "nbformat_minor": 1
}
